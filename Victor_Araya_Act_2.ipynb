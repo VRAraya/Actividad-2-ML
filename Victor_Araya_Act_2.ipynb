{
  "nbformat": 4,
  "nbformat_minor": 0,
  "metadata": {
    "colab": {
      "name": "Copia de SebastianG-Actividad 21-10-2020.ipynb",
      "provenance": [],
      "collapsed_sections": [],
      "include_colab_link": true
    },
    "kernelspec": {
      "name": "python3",
      "display_name": "Python 3"
    }
  },
  "cells": [
    {
      "cell_type": "markdown",
      "metadata": {
        "id": "view-in-github",
        "colab_type": "text"
      },
      "source": [
        "<a href=\"https://colab.research.google.com/github/VRAraya/Actividad-2-ML/blob/main/Copia_de_SebastianG_Actividad_21_10_2020.ipynb\" target=\"_parent\"><img src=\"https://colab.research.google.com/assets/colab-badge.svg\" alt=\"Open In Colab\"/></a>"
      ]
    },
    {
      "cell_type": "markdown",
      "metadata": {
        "id": "gOoxTLExA005"
      },
      "source": [
        "#1 Ejercicio.\n",
        "Programe una red MLP con una capa oculta compuesta de 15 neuronas y salida sigmoidal, y además un clasificador bayesiano. Utilice la base datos iris (use sólo 2 clases)."
      ]
    },
    {
      "cell_type": "code",
      "metadata": {
        "id": "jh1YbIUWKbNi"
      },
      "source": [
        ""
      ],
      "execution_count": null,
      "outputs": []
    },
    {
      "cell_type": "code",
      "metadata": {
        "id": "5pH9FYmjAX4X"
      },
      "source": [
        "import numpy as np\n",
        "import matplotlib.pylab as plt\n",
        "import tensorflow as tf\n",
        "import tensorflow.keras as kr\n",
        "from keras.layers import Dense\n",
        "from keras.models import Sequential\n",
        "from scipy.stats import multivariate_normal\n",
        "from sklearn import datasets\n",
        "from sklearn.model_selection import train_test_split\n",
        "\n",
        "X, y = datasets.load_iris (return_X_y=True)\n",
        "x = X[:100]\n",
        "y = y[:100]"
      ],
      "execution_count": null,
      "outputs": []
    },
    {
      "cell_type": "markdown",
      "metadata": {
        "id": "2IV1rD1R8-LJ"
      },
      "source": [
        "Se obtiene la cantidad de datos (100) y dimensión (4) del X:"
      ]
    },
    {
      "cell_type": "code",
      "metadata": {
        "id": "MCweV6oAx-rt",
        "outputId": "68c56650-0127-4aa6-d6cf-fce5337fc897",
        "colab": {
          "base_uri": "https://localhost:8080/",
          "height": 33
        }
      },
      "source": [
        "x.shape"
      ],
      "execution_count": null,
      "outputs": [
        {
          "output_type": "execute_result",
          "data": {
            "text/plain": [
              "(100, 4)"
            ]
          },
          "metadata": {
            "tags": []
          },
          "execution_count": 6
        }
      ]
    },
    {
      "cell_type": "markdown",
      "metadata": {
        "id": "ZiQIFQsr9QkT"
      },
      "source": [
        "Se construye la red MLP"
      ]
    },
    {
      "cell_type": "code",
      "metadata": {
        "id": "19bPiqaEZN8E"
      },
      "source": [
        "red = Sequential()\n",
        "red.add(Dense(15, input_dim=4, activation='sigmoid'))\n",
        "red.add(Dense(1, activation='sigmoid'))"
      ],
      "execution_count": null,
      "outputs": []
    },
    {
      "cell_type": "code",
      "metadata": {
        "id": "EwX-wLz9y1jP",
        "outputId": "312bea67-fc39-4369-c323-a893eabfa6b7",
        "colab": {
          "base_uri": "https://localhost:8080/",
          "height": 1000
        }
      },
      "source": [
        "# Compila la red\n",
        "red.compile(loss='mse', optimizer='adam', metrics=['accuracy'])\n",
        "\n",
        "# Train test split desde sklearn\n",
        "x_train, x_valid, y_train, y_valid = train_test_split(x, y, test_size=0.2)\n",
        "\n",
        "# Ajusta la red\n",
        "red.fit(x, y, epochs=150, batch_size=100)\n",
        "\n",
        "# Evalua el porcentaje de clasificación en la red\n",
        "porcentaje_clasificacion = red.evaluate(x, y)"
      ],
      "execution_count": null,
      "outputs": [
        {
          "output_type": "stream",
          "text": [
            "Epoch 1/150\n",
            "1/1 [==============================] - 0s 2ms/step - loss: 0.2980 - accuracy: 0.5000\n",
            "Epoch 2/150\n",
            "1/1 [==============================] - 0s 1ms/step - loss: 0.2967 - accuracy: 0.5000\n",
            "Epoch 3/150\n",
            "1/1 [==============================] - 0s 2ms/step - loss: 0.2953 - accuracy: 0.5000\n",
            "Epoch 4/150\n",
            "1/1 [==============================] - 0s 2ms/step - loss: 0.2940 - accuracy: 0.5000\n",
            "Epoch 5/150\n",
            "1/1 [==============================] - 0s 2ms/step - loss: 0.2927 - accuracy: 0.5000\n",
            "Epoch 6/150\n",
            "1/1 [==============================] - 0s 2ms/step - loss: 0.2914 - accuracy: 0.5000\n",
            "Epoch 7/150\n",
            "1/1 [==============================] - 0s 2ms/step - loss: 0.2901 - accuracy: 0.5000\n",
            "Epoch 8/150\n",
            "1/1 [==============================] - 0s 2ms/step - loss: 0.2887 - accuracy: 0.5000\n",
            "Epoch 9/150\n",
            "1/1 [==============================] - 0s 2ms/step - loss: 0.2874 - accuracy: 0.5000\n",
            "Epoch 10/150\n",
            "1/1 [==============================] - 0s 2ms/step - loss: 0.2861 - accuracy: 0.5000\n",
            "Epoch 11/150\n",
            "1/1 [==============================] - 0s 2ms/step - loss: 0.2848 - accuracy: 0.5000\n",
            "Epoch 12/150\n",
            "1/1 [==============================] - 0s 2ms/step - loss: 0.2834 - accuracy: 0.5000\n",
            "Epoch 13/150\n",
            "1/1 [==============================] - 0s 2ms/step - loss: 0.2821 - accuracy: 0.5000\n",
            "Epoch 14/150\n",
            "1/1 [==============================] - 0s 2ms/step - loss: 0.2808 - accuracy: 0.5000\n",
            "Epoch 15/150\n",
            "1/1 [==============================] - 0s 2ms/step - loss: 0.2795 - accuracy: 0.5000\n",
            "Epoch 16/150\n",
            "1/1 [==============================] - 0s 2ms/step - loss: 0.2782 - accuracy: 0.5000\n",
            "Epoch 17/150\n",
            "1/1 [==============================] - 0s 2ms/step - loss: 0.2768 - accuracy: 0.5000\n",
            "Epoch 18/150\n",
            "1/1 [==============================] - 0s 2ms/step - loss: 0.2755 - accuracy: 0.5000\n",
            "Epoch 19/150\n",
            "1/1 [==============================] - 0s 2ms/step - loss: 0.2742 - accuracy: 0.5000\n",
            "Epoch 20/150\n",
            "1/1 [==============================] - 0s 2ms/step - loss: 0.2729 - accuracy: 0.5000\n",
            "Epoch 21/150\n",
            "1/1 [==============================] - 0s 2ms/step - loss: 0.2716 - accuracy: 0.5000\n",
            "Epoch 22/150\n",
            "1/1 [==============================] - 0s 2ms/step - loss: 0.2703 - accuracy: 0.5000\n",
            "Epoch 23/150\n",
            "1/1 [==============================] - 0s 2ms/step - loss: 0.2690 - accuracy: 0.5000\n",
            "Epoch 24/150\n",
            "1/1 [==============================] - 0s 2ms/step - loss: 0.2677 - accuracy: 0.5000\n",
            "Epoch 25/150\n",
            "1/1 [==============================] - 0s 2ms/step - loss: 0.2664 - accuracy: 0.5000\n",
            "Epoch 26/150\n",
            "1/1 [==============================] - 0s 2ms/step - loss: 0.2651 - accuracy: 0.5000\n",
            "Epoch 27/150\n",
            "1/1 [==============================] - 0s 2ms/step - loss: 0.2639 - accuracy: 0.5000\n",
            "Epoch 28/150\n",
            "1/1 [==============================] - 0s 2ms/step - loss: 0.2626 - accuracy: 0.5000\n",
            "Epoch 29/150\n",
            "1/1 [==============================] - 0s 2ms/step - loss: 0.2613 - accuracy: 0.5000\n",
            "Epoch 30/150\n",
            "1/1 [==============================] - 0s 2ms/step - loss: 0.2600 - accuracy: 0.5000\n",
            "Epoch 31/150\n",
            "1/1 [==============================] - 0s 2ms/step - loss: 0.2588 - accuracy: 0.5000\n",
            "Epoch 32/150\n",
            "1/1 [==============================] - 0s 2ms/step - loss: 0.2575 - accuracy: 0.5000\n",
            "Epoch 33/150\n",
            "1/1 [==============================] - 0s 2ms/step - loss: 0.2562 - accuracy: 0.5000\n",
            "Epoch 34/150\n",
            "1/1 [==============================] - 0s 2ms/step - loss: 0.2550 - accuracy: 0.5000\n",
            "Epoch 35/150\n",
            "1/1 [==============================] - 0s 2ms/step - loss: 0.2537 - accuracy: 0.5000\n",
            "Epoch 36/150\n",
            "1/1 [==============================] - 0s 2ms/step - loss: 0.2525 - accuracy: 0.5000\n",
            "Epoch 37/150\n",
            "1/1 [==============================] - 0s 2ms/step - loss: 0.2513 - accuracy: 0.5000\n",
            "Epoch 38/150\n",
            "1/1 [==============================] - 0s 2ms/step - loss: 0.2500 - accuracy: 0.5000\n",
            "Epoch 39/150\n",
            "1/1 [==============================] - 0s 1ms/step - loss: 0.2488 - accuracy: 0.5000\n",
            "Epoch 40/150\n",
            "1/1 [==============================] - 0s 3ms/step - loss: 0.2476 - accuracy: 0.5000\n",
            "Epoch 41/150\n",
            "1/1 [==============================] - 0s 978us/step - loss: 0.2463 - accuracy: 0.5000\n",
            "Epoch 42/150\n",
            "1/1 [==============================] - 0s 1ms/step - loss: 0.2451 - accuracy: 0.5000\n",
            "Epoch 43/150\n",
            "1/1 [==============================] - 0s 2ms/step - loss: 0.2439 - accuracy: 0.5000\n",
            "Epoch 44/150\n",
            "1/1 [==============================] - 0s 3ms/step - loss: 0.2427 - accuracy: 0.5000\n",
            "Epoch 45/150\n",
            "1/1 [==============================] - 0s 3ms/step - loss: 0.2415 - accuracy: 0.5000\n",
            "Epoch 46/150\n",
            "1/1 [==============================] - 0s 2ms/step - loss: 0.2403 - accuracy: 0.5000\n",
            "Epoch 47/150\n",
            "1/1 [==============================] - 0s 2ms/step - loss: 0.2391 - accuracy: 0.5000\n",
            "Epoch 48/150\n",
            "1/1 [==============================] - 0s 1ms/step - loss: 0.2379 - accuracy: 0.5000\n",
            "Epoch 49/150\n",
            "1/1 [==============================] - 0s 2ms/step - loss: 0.2367 - accuracy: 0.5000\n",
            "Epoch 50/150\n",
            "1/1 [==============================] - 0s 2ms/step - loss: 0.2355 - accuracy: 0.5000\n",
            "Epoch 51/150\n",
            "1/1 [==============================] - 0s 4ms/step - loss: 0.2344 - accuracy: 0.5000\n",
            "Epoch 52/150\n",
            "1/1 [==============================] - 0s 2ms/step - loss: 0.2332 - accuracy: 0.5000\n",
            "Epoch 53/150\n",
            "1/1 [==============================] - 0s 1ms/step - loss: 0.2320 - accuracy: 0.5000\n",
            "Epoch 54/150\n",
            "1/1 [==============================] - 0s 3ms/step - loss: 0.2308 - accuracy: 0.5000\n",
            "Epoch 55/150\n",
            "1/1 [==============================] - 0s 2ms/step - loss: 0.2297 - accuracy: 0.5000\n",
            "Epoch 56/150\n",
            "1/1 [==============================] - 0s 5ms/step - loss: 0.2285 - accuracy: 0.5000\n",
            "Epoch 57/150\n",
            "1/1 [==============================] - 0s 2ms/step - loss: 0.2273 - accuracy: 0.5000\n",
            "Epoch 58/150\n",
            "1/1 [==============================] - 0s 2ms/step - loss: 0.2262 - accuracy: 0.5000\n",
            "Epoch 59/150\n",
            "1/1 [==============================] - 0s 5ms/step - loss: 0.2250 - accuracy: 0.5000\n",
            "Epoch 60/150\n",
            "1/1 [==============================] - 0s 4ms/step - loss: 0.2239 - accuracy: 0.5000\n",
            "Epoch 61/150\n",
            "1/1 [==============================] - 0s 3ms/step - loss: 0.2227 - accuracy: 0.5000\n",
            "Epoch 62/150\n",
            "1/1 [==============================] - 0s 6ms/step - loss: 0.2216 - accuracy: 0.5000\n",
            "Epoch 63/150\n",
            "1/1 [==============================] - 0s 2ms/step - loss: 0.2204 - accuracy: 0.5100\n",
            "Epoch 64/150\n",
            "1/1 [==============================] - 0s 3ms/step - loss: 0.2193 - accuracy: 0.5200\n",
            "Epoch 65/150\n",
            "1/1 [==============================] - 0s 2ms/step - loss: 0.2182 - accuracy: 0.5200\n",
            "Epoch 66/150\n",
            "1/1 [==============================] - 0s 3ms/step - loss: 0.2171 - accuracy: 0.5200\n",
            "Epoch 67/150\n",
            "1/1 [==============================] - 0s 3ms/step - loss: 0.2159 - accuracy: 0.5200\n",
            "Epoch 68/150\n",
            "1/1 [==============================] - 0s 3ms/step - loss: 0.2148 - accuracy: 0.5400\n",
            "Epoch 69/150\n",
            "1/1 [==============================] - 0s 5ms/step - loss: 0.2137 - accuracy: 0.5600\n",
            "Epoch 70/150\n",
            "1/1 [==============================] - 0s 4ms/step - loss: 0.2126 - accuracy: 0.5600\n",
            "Epoch 71/150\n",
            "1/1 [==============================] - 0s 5ms/step - loss: 0.2115 - accuracy: 0.5600\n",
            "Epoch 72/150\n",
            "1/1 [==============================] - 0s 2ms/step - loss: 0.2104 - accuracy: 0.5800\n",
            "Epoch 73/150\n",
            "1/1 [==============================] - 0s 2ms/step - loss: 0.2093 - accuracy: 0.6000\n",
            "Epoch 74/150\n",
            "1/1 [==============================] - 0s 2ms/step - loss: 0.2082 - accuracy: 0.6000\n",
            "Epoch 75/150\n",
            "1/1 [==============================] - 0s 2ms/step - loss: 0.2071 - accuracy: 0.6400\n",
            "Epoch 76/150\n",
            "1/1 [==============================] - 0s 2ms/step - loss: 0.2060 - accuracy: 0.6600\n",
            "Epoch 77/150\n",
            "1/1 [==============================] - 0s 2ms/step - loss: 0.2049 - accuracy: 0.6900\n",
            "Epoch 78/150\n",
            "1/1 [==============================] - 0s 4ms/step - loss: 0.2038 - accuracy: 0.7200\n",
            "Epoch 79/150\n",
            "1/1 [==============================] - 0s 2ms/step - loss: 0.2028 - accuracy: 0.7600\n",
            "Epoch 80/150\n",
            "1/1 [==============================] - 0s 2ms/step - loss: 0.2017 - accuracy: 0.8100\n",
            "Epoch 81/150\n",
            "1/1 [==============================] - 0s 2ms/step - loss: 0.2006 - accuracy: 0.8200\n",
            "Epoch 82/150\n",
            "1/1 [==============================] - 0s 2ms/step - loss: 0.1996 - accuracy: 0.8600\n",
            "Epoch 83/150\n",
            "1/1 [==============================] - 0s 2ms/step - loss: 0.1985 - accuracy: 0.8800\n",
            "Epoch 84/150\n",
            "1/1 [==============================] - 0s 2ms/step - loss: 0.1975 - accuracy: 0.9100\n",
            "Epoch 85/150\n",
            "1/1 [==============================] - 0s 2ms/step - loss: 0.1964 - accuracy: 0.9200\n",
            "Epoch 86/150\n",
            "1/1 [==============================] - 0s 2ms/step - loss: 0.1954 - accuracy: 0.9200\n",
            "Epoch 87/150\n",
            "1/1 [==============================] - 0s 2ms/step - loss: 0.1943 - accuracy: 0.9300\n",
            "Epoch 88/150\n",
            "1/1 [==============================] - 0s 1ms/step - loss: 0.1933 - accuracy: 0.9600\n",
            "Epoch 89/150\n",
            "1/1 [==============================] - 0s 2ms/step - loss: 0.1923 - accuracy: 0.9700\n",
            "Epoch 90/150\n",
            "1/1 [==============================] - 0s 4ms/step - loss: 0.1912 - accuracy: 0.9700\n",
            "Epoch 91/150\n",
            "1/1 [==============================] - 0s 2ms/step - loss: 0.1902 - accuracy: 0.9900\n",
            "Epoch 92/150\n",
            "1/1 [==============================] - 0s 4ms/step - loss: 0.1892 - accuracy: 0.9900\n",
            "Epoch 93/150\n",
            "1/1 [==============================] - 0s 4ms/step - loss: 0.1882 - accuracy: 0.9900\n",
            "Epoch 94/150\n",
            "1/1 [==============================] - 0s 4ms/step - loss: 0.1872 - accuracy: 0.9900\n",
            "Epoch 95/150\n",
            "1/1 [==============================] - 0s 2ms/step - loss: 0.1862 - accuracy: 1.0000\n",
            "Epoch 96/150\n",
            "1/1 [==============================] - 0s 2ms/step - loss: 0.1852 - accuracy: 1.0000\n",
            "Epoch 97/150\n",
            "1/1 [==============================] - 0s 3ms/step - loss: 0.1842 - accuracy: 1.0000\n",
            "Epoch 98/150\n",
            "1/1 [==============================] - 0s 2ms/step - loss: 0.1832 - accuracy: 1.0000\n",
            "Epoch 99/150\n",
            "1/1 [==============================] - 0s 3ms/step - loss: 0.1822 - accuracy: 1.0000\n",
            "Epoch 100/150\n",
            "1/1 [==============================] - 0s 3ms/step - loss: 0.1813 - accuracy: 1.0000\n",
            "Epoch 101/150\n",
            "1/1 [==============================] - 0s 2ms/step - loss: 0.1803 - accuracy: 1.0000\n",
            "Epoch 102/150\n",
            "1/1 [==============================] - 0s 4ms/step - loss: 0.1793 - accuracy: 1.0000\n",
            "Epoch 103/150\n",
            "1/1 [==============================] - 0s 2ms/step - loss: 0.1783 - accuracy: 1.0000\n",
            "Epoch 104/150\n",
            "1/1 [==============================] - 0s 3ms/step - loss: 0.1774 - accuracy: 1.0000\n",
            "Epoch 105/150\n",
            "1/1 [==============================] - 0s 4ms/step - loss: 0.1764 - accuracy: 1.0000\n",
            "Epoch 106/150\n",
            "1/1 [==============================] - 0s 4ms/step - loss: 0.1755 - accuracy: 1.0000\n",
            "Epoch 107/150\n",
            "1/1 [==============================] - 0s 3ms/step - loss: 0.1745 - accuracy: 1.0000\n",
            "Epoch 108/150\n",
            "1/1 [==============================] - 0s 2ms/step - loss: 0.1736 - accuracy: 1.0000\n",
            "Epoch 109/150\n",
            "1/1 [==============================] - 0s 2ms/step - loss: 0.1726 - accuracy: 1.0000\n",
            "Epoch 110/150\n",
            "1/1 [==============================] - 0s 4ms/step - loss: 0.1717 - accuracy: 1.0000\n",
            "Epoch 111/150\n",
            "1/1 [==============================] - 0s 2ms/step - loss: 0.1708 - accuracy: 1.0000\n",
            "Epoch 112/150\n",
            "1/1 [==============================] - 0s 3ms/step - loss: 0.1699 - accuracy: 1.0000\n",
            "Epoch 113/150\n",
            "1/1 [==============================] - 0s 2ms/step - loss: 0.1689 - accuracy: 1.0000\n",
            "Epoch 114/150\n",
            "1/1 [==============================] - 0s 2ms/step - loss: 0.1680 - accuracy: 1.0000\n",
            "Epoch 115/150\n",
            "1/1 [==============================] - 0s 3ms/step - loss: 0.1671 - accuracy: 1.0000\n",
            "Epoch 116/150\n",
            "1/1 [==============================] - 0s 2ms/step - loss: 0.1662 - accuracy: 1.0000\n",
            "Epoch 117/150\n",
            "1/1 [==============================] - 0s 3ms/step - loss: 0.1653 - accuracy: 1.0000\n",
            "Epoch 118/150\n",
            "1/1 [==============================] - 0s 2ms/step - loss: 0.1644 - accuracy: 1.0000\n",
            "Epoch 119/150\n",
            "1/1 [==============================] - 0s 2ms/step - loss: 0.1635 - accuracy: 1.0000\n",
            "Epoch 120/150\n",
            "1/1 [==============================] - 0s 2ms/step - loss: 0.1626 - accuracy: 1.0000\n",
            "Epoch 121/150\n",
            "1/1 [==============================] - 0s 7ms/step - loss: 0.1617 - accuracy: 1.0000\n",
            "Epoch 122/150\n",
            "1/1 [==============================] - 0s 5ms/step - loss: 0.1608 - accuracy: 1.0000\n",
            "Epoch 123/150\n",
            "1/1 [==============================] - 0s 2ms/step - loss: 0.1599 - accuracy: 1.0000\n",
            "Epoch 124/150\n",
            "1/1 [==============================] - 0s 3ms/step - loss: 0.1591 - accuracy: 1.0000\n",
            "Epoch 125/150\n",
            "1/1 [==============================] - 0s 3ms/step - loss: 0.1582 - accuracy: 1.0000\n",
            "Epoch 126/150\n",
            "1/1 [==============================] - 0s 4ms/step - loss: 0.1573 - accuracy: 1.0000\n",
            "Epoch 127/150\n",
            "1/1 [==============================] - 0s 2ms/step - loss: 0.1565 - accuracy: 1.0000\n",
            "Epoch 128/150\n",
            "1/1 [==============================] - 0s 2ms/step - loss: 0.1556 - accuracy: 1.0000\n",
            "Epoch 129/150\n",
            "1/1 [==============================] - 0s 2ms/step - loss: 0.1547 - accuracy: 1.0000\n",
            "Epoch 130/150\n",
            "1/1 [==============================] - 0s 2ms/step - loss: 0.1539 - accuracy: 1.0000\n",
            "Epoch 131/150\n",
            "1/1 [==============================] - 0s 3ms/step - loss: 0.1530 - accuracy: 1.0000\n",
            "Epoch 132/150\n",
            "1/1 [==============================] - 0s 4ms/step - loss: 0.1522 - accuracy: 1.0000\n",
            "Epoch 133/150\n",
            "1/1 [==============================] - 0s 2ms/step - loss: 0.1513 - accuracy: 1.0000\n",
            "Epoch 134/150\n",
            "1/1 [==============================] - 0s 3ms/step - loss: 0.1505 - accuracy: 1.0000\n",
            "Epoch 135/150\n",
            "1/1 [==============================] - 0s 2ms/step - loss: 0.1497 - accuracy: 1.0000\n",
            "Epoch 136/150\n",
            "1/1 [==============================] - 0s 2ms/step - loss: 0.1488 - accuracy: 1.0000\n",
            "Epoch 137/150\n",
            "1/1 [==============================] - 0s 2ms/step - loss: 0.1480 - accuracy: 1.0000\n",
            "Epoch 138/150\n",
            "1/1 [==============================] - 0s 2ms/step - loss: 0.1472 - accuracy: 1.0000\n",
            "Epoch 139/150\n",
            "1/1 [==============================] - 0s 2ms/step - loss: 0.1464 - accuracy: 1.0000\n",
            "Epoch 140/150\n",
            "1/1 [==============================] - 0s 2ms/step - loss: 0.1456 - accuracy: 1.0000\n",
            "Epoch 141/150\n",
            "1/1 [==============================] - 0s 2ms/step - loss: 0.1448 - accuracy: 1.0000\n",
            "Epoch 142/150\n",
            "1/1 [==============================] - 0s 2ms/step - loss: 0.1439 - accuracy: 1.0000\n",
            "Epoch 143/150\n",
            "1/1 [==============================] - 0s 3ms/step - loss: 0.1431 - accuracy: 1.0000\n",
            "Epoch 144/150\n",
            "1/1 [==============================] - 0s 2ms/step - loss: 0.1423 - accuracy: 1.0000\n",
            "Epoch 145/150\n",
            "1/1 [==============================] - 0s 2ms/step - loss: 0.1415 - accuracy: 1.0000\n",
            "Epoch 146/150\n",
            "1/1 [==============================] - 0s 2ms/step - loss: 0.1408 - accuracy: 1.0000\n",
            "Epoch 147/150\n",
            "1/1 [==============================] - 0s 2ms/step - loss: 0.1400 - accuracy: 1.0000\n",
            "Epoch 148/150\n",
            "1/1 [==============================] - 0s 2ms/step - loss: 0.1392 - accuracy: 1.0000\n",
            "Epoch 149/150\n",
            "1/1 [==============================] - 0s 2ms/step - loss: 0.1384 - accuracy: 1.0000\n",
            "Epoch 150/150\n",
            "1/1 [==============================] - 0s 2ms/step - loss: 0.1376 - accuracy: 1.0000\n",
            "4/4 [==============================] - 0s 2ms/step - loss: 0.1368 - accuracy: 1.0000\n"
          ],
          "name": "stdout"
        }
      ]
    },
    {
      "cell_type": "code",
      "metadata": {
        "id": "0xAEOyFf891V",
        "outputId": "024f3d4a-0364-4ba2-ddf3-beb54fbfea8a",
        "colab": {
          "base_uri": "https://localhost:8080/",
          "height": 1000
        }
      },
      "source": [
        "red.predict(x)"
      ],
      "execution_count": null,
      "outputs": [
        {
          "output_type": "execute_result",
          "data": {
            "text/plain": [
              "array([[0.3704442 ],\n",
              "       [0.37628326],\n",
              "       [0.3632968 ],\n",
              "       [0.37942258],\n",
              "       [0.367979  ],\n",
              "       [0.40175107],\n",
              "       [0.37272495],\n",
              "       [0.37899268],\n",
              "       [0.37186575],\n",
              "       [0.37698027],\n",
              "       [0.37741336],\n",
              "       [0.38510105],\n",
              "       [0.36964166],\n",
              "       [0.34052658],\n",
              "       [0.35232982],\n",
              "       [0.37880877],\n",
              "       [0.36960846],\n",
              "       [0.37605414],\n",
              "       [0.39920872],\n",
              "       [0.3792185 ],\n",
              "       [0.3981161 ],\n",
              "       [0.38661146],\n",
              "       [0.33334485],\n",
              "       [0.4152969 ],\n",
              "       [0.40946436],\n",
              "       [0.39303485],\n",
              "       [0.3986844 ],\n",
              "       [0.3791362 ],\n",
              "       [0.37292364],\n",
              "       [0.38706836],\n",
              "       [0.3895691 ],\n",
              "       [0.3938162 ],\n",
              "       [0.36396378],\n",
              "       [0.36208928],\n",
              "       [0.3826361 ],\n",
              "       [0.35879385],\n",
              "       [0.36611274],\n",
              "       [0.36155438],\n",
              "       [0.36260563],\n",
              "       [0.37988392],\n",
              "       [0.36726743],\n",
              "       [0.37885922],\n",
              "       [0.359783  ],\n",
              "       [0.4091209 ],\n",
              "       [0.4179279 ],\n",
              "       [0.38085404],\n",
              "       [0.38147798],\n",
              "       [0.37003022],\n",
              "       [0.37667805],\n",
              "       [0.37268192],\n",
              "       [0.66774035],\n",
              "       [0.6631394 ],\n",
              "       [0.6786151 ],\n",
              "       [0.6253422 ],\n",
              "       [0.66525984],\n",
              "       [0.65119106],\n",
              "       [0.67394286],\n",
              "       [0.570758  ],\n",
              "       [0.658808  ],\n",
              "       [0.62357044],\n",
              "       [0.58155787],\n",
              "       [0.64766455],\n",
              "       [0.6137278 ],\n",
              "       [0.6651746 ],\n",
              "       [0.60800683],\n",
              "       [0.65497446],\n",
              "       [0.6571634 ],\n",
              "       [0.6218013 ],\n",
              "       [0.6552379 ],\n",
              "       [0.61428446],\n",
              "       [0.67893124],\n",
              "       [0.63076526],\n",
              "       [0.67283493],\n",
              "       [0.65796995],\n",
              "       [0.64576167],\n",
              "       [0.654613  ],\n",
              "       [0.66937965],\n",
              "       [0.6871939 ],\n",
              "       [0.6602329 ],\n",
              "       [0.5881698 ],\n",
              "       [0.60810864],\n",
              "       [0.59826905],\n",
              "       [0.62029475],\n",
              "       [0.6814327 ],\n",
              "       [0.65472794],\n",
              "       [0.66443336],\n",
              "       [0.6711493 ],\n",
              "       [0.645426  ],\n",
              "       [0.6336758 ],\n",
              "       [0.62666225],\n",
              "       [0.64108294],\n",
              "       [0.6618697 ],\n",
              "       [0.62487555],\n",
              "       [0.5715422 ],\n",
              "       [0.63743234],\n",
              "       [0.63527834],\n",
              "       [0.63886094],\n",
              "       [0.64557755],\n",
              "       [0.55873334],\n",
              "       [0.6339885 ]], dtype=float32)"
            ]
          },
          "metadata": {
            "tags": []
          },
          "execution_count": 9
        }
      ]
    },
    {
      "cell_type": "code",
      "metadata": {
        "id": "ffx0th542V5I",
        "outputId": "187d5e3d-c3e5-4ea9-d8c2-2d27e8933845",
        "colab": {
          "base_uri": "https://localhost:8080/",
          "height": 98
        }
      },
      "source": [
        "y"
      ],
      "execution_count": null,
      "outputs": [
        {
          "output_type": "execute_result",
          "data": {
            "text/plain": [
              "array([0, 0, 0, 0, 0, 0, 0, 0, 0, 0, 0, 0, 0, 0, 0, 0, 0, 0, 0, 0, 0, 0,\n",
              "       0, 0, 0, 0, 0, 0, 0, 0, 0, 0, 0, 0, 0, 0, 0, 0, 0, 0, 0, 0, 0, 0,\n",
              "       0, 0, 0, 0, 0, 0, 1, 1, 1, 1, 1, 1, 1, 1, 1, 1, 1, 1, 1, 1, 1, 1,\n",
              "       1, 1, 1, 1, 1, 1, 1, 1, 1, 1, 1, 1, 1, 1, 1, 1, 1, 1, 1, 1, 1, 1,\n",
              "       1, 1, 1, 1, 1, 1, 1, 1, 1, 1, 1, 1])"
            ]
          },
          "metadata": {
            "tags": []
          },
          "execution_count": 10
        }
      ]
    },
    {
      "cell_type": "code",
      "metadata": {
        "id": "kduzNxT752tx"
      },
      "source": [
        "mu_clase1 = np.mean(x[y==0],axis=0)\n",
        "mu_clase2 = np.mean(x[y==1],axis=0)\n",
        "sigma_clase1 = np.cov(x[y==0].T)\n",
        "sigma_clase2 = np.cov(x[y==1].T)"
      ],
      "execution_count": null,
      "outputs": []
    },
    {
      "cell_type": "code",
      "metadata": {
        "id": "8yvSVVf_7iID",
        "outputId": "6e1089ab-75a1-4b6c-ba1d-024b6eeffc5c",
        "colab": {
          "base_uri": "https://localhost:8080/",
          "height": 33
        }
      },
      "source": [
        "sigma_c2.shape"
      ],
      "execution_count": null,
      "outputs": [
        {
          "output_type": "execute_result",
          "data": {
            "text/plain": [
              "(4, 4)"
            ]
          },
          "metadata": {
            "tags": []
          },
          "execution_count": 12
        }
      ]
    },
    {
      "cell_type": "code",
      "metadata": {
        "id": "ohjTrGIGId5F"
      },
      "source": [
        "w1  = mu_clase1/(sigma_clase1[0,0]) #sigma_c1 es una matriz de 2x2. Solo consideramos el primer elemento, es decir, el elemento\n",
        "w10 = -(1/(2*sigma_clase1[0,0]))*np.dot(mu_clase1.T,mu_clase1) + np.log(0.5)\n",
        "w2  = mu_clase2/(sigma_clase2[0,0])\n",
        "w20 = -(1/(2*sigma_clase2[0,0]))*np.dot(mu_clase2.T,mu_clase2) + np.log(0.5)\n",
        "\n",
        "diferencia_w  = w1-w2\n",
        "diferencia_w0 = w10-w20"
      ],
      "execution_count": null,
      "outputs": []
    },
    {
      "cell_type": "code",
      "metadata": {
        "id": "I1UoZ7urJuEX",
        "outputId": "9c73c502-defb-4194-c173-3ca89eb90968",
        "colab": {
          "base_uri": "https://localhost:8080/",
          "height": 613
        }
      },
      "source": [
        "def x_final(x):\n",
        "  return (-diferencia_w[0]*x1 - diferencia_w0)/diferencia_w[0]\n",
        "   \n",
        "\n",
        "plt.figure()\n",
        "plt.scatter(x[y==0],  alpha=0.6)\n",
        "plt.scatter(x[y==1], y, alpha=0.8,marker='x')\n",
        "plt.plot(x,eq_final(x),color='r',lw=2)\n",
        "plt.xlabel('x1',fontsize=30)\n",
        "plt.ylabel('x2',fontsize=30)"
      ],
      "execution_count": null,
      "outputs": [
        {
          "output_type": "error",
          "ename": "ValueError",
          "evalue": "ignored",
          "traceback": [
            "\u001b[0;31m---------------------------------------------------------------------------\u001b[0m",
            "\u001b[0;31mValueError\u001b[0m                                Traceback (most recent call last)",
            "\u001b[0;32m<ipython-input-16-9cacf559eee9>\u001b[0m in \u001b[0;36m<module>\u001b[0;34m()\u001b[0m\n\u001b[1;32m      4\u001b[0m \u001b[0;34m\u001b[0m\u001b[0m\n\u001b[1;32m      5\u001b[0m \u001b[0mplt\u001b[0m\u001b[0;34m.\u001b[0m\u001b[0mfigure\u001b[0m\u001b[0;34m(\u001b[0m\u001b[0;34m)\u001b[0m\u001b[0;34m\u001b[0m\u001b[0;34m\u001b[0m\u001b[0m\n\u001b[0;32m----> 6\u001b[0;31m \u001b[0mplt\u001b[0m\u001b[0;34m.\u001b[0m\u001b[0mscatter\u001b[0m\u001b[0;34m(\u001b[0m\u001b[0mx\u001b[0m\u001b[0;34m[\u001b[0m\u001b[0my\u001b[0m\u001b[0;34m==\u001b[0m\u001b[0;36m0\u001b[0m\u001b[0;34m]\u001b[0m\u001b[0;34m,\u001b[0m \u001b[0my\u001b[0m\u001b[0;34m,\u001b[0m  \u001b[0malpha\u001b[0m\u001b[0;34m=\u001b[0m\u001b[0;36m0.6\u001b[0m\u001b[0;34m)\u001b[0m\u001b[0;34m\u001b[0m\u001b[0;34m\u001b[0m\u001b[0m\n\u001b[0m\u001b[1;32m      7\u001b[0m \u001b[0mplt\u001b[0m\u001b[0;34m.\u001b[0m\u001b[0mscatter\u001b[0m\u001b[0;34m(\u001b[0m\u001b[0mx\u001b[0m\u001b[0;34m[\u001b[0m\u001b[0my\u001b[0m\u001b[0;34m==\u001b[0m\u001b[0;36m1\u001b[0m\u001b[0;34m]\u001b[0m\u001b[0;34m,\u001b[0m \u001b[0my\u001b[0m\u001b[0;34m,\u001b[0m \u001b[0malpha\u001b[0m\u001b[0;34m=\u001b[0m\u001b[0;36m0.8\u001b[0m\u001b[0;34m,\u001b[0m\u001b[0mmarker\u001b[0m\u001b[0;34m=\u001b[0m\u001b[0;34m'x'\u001b[0m\u001b[0;34m)\u001b[0m\u001b[0;34m\u001b[0m\u001b[0;34m\u001b[0m\u001b[0m\n\u001b[1;32m      8\u001b[0m \u001b[0mplt\u001b[0m\u001b[0;34m.\u001b[0m\u001b[0mplot\u001b[0m\u001b[0;34m(\u001b[0m\u001b[0mx\u001b[0m\u001b[0;34m,\u001b[0m\u001b[0meq_final\u001b[0m\u001b[0;34m(\u001b[0m\u001b[0mx\u001b[0m\u001b[0;34m)\u001b[0m\u001b[0;34m,\u001b[0m\u001b[0mcolor\u001b[0m\u001b[0;34m=\u001b[0m\u001b[0;34m'r'\u001b[0m\u001b[0;34m,\u001b[0m\u001b[0mlw\u001b[0m\u001b[0;34m=\u001b[0m\u001b[0;36m2\u001b[0m\u001b[0;34m)\u001b[0m\u001b[0;34m\u001b[0m\u001b[0;34m\u001b[0m\u001b[0m\n",
            "\u001b[0;32m/usr/local/lib/python3.6/dist-packages/matplotlib/pyplot.py\u001b[0m in \u001b[0;36mscatter\u001b[0;34m(x, y, s, c, marker, cmap, norm, vmin, vmax, alpha, linewidths, verts, edgecolors, plotnonfinite, data, **kwargs)\u001b[0m\n\u001b[1;32m   2814\u001b[0m         \u001b[0mverts\u001b[0m\u001b[0;34m=\u001b[0m\u001b[0mverts\u001b[0m\u001b[0;34m,\u001b[0m \u001b[0medgecolors\u001b[0m\u001b[0;34m=\u001b[0m\u001b[0medgecolors\u001b[0m\u001b[0;34m,\u001b[0m\u001b[0;34m\u001b[0m\u001b[0;34m\u001b[0m\u001b[0m\n\u001b[1;32m   2815\u001b[0m         plotnonfinite=plotnonfinite, **({\"data\": data} if data is not\n\u001b[0;32m-> 2816\u001b[0;31m         None else {}), **kwargs)\n\u001b[0m\u001b[1;32m   2817\u001b[0m     \u001b[0msci\u001b[0m\u001b[0;34m(\u001b[0m\u001b[0m__ret\u001b[0m\u001b[0;34m)\u001b[0m\u001b[0;34m\u001b[0m\u001b[0;34m\u001b[0m\u001b[0m\n\u001b[1;32m   2818\u001b[0m     \u001b[0;32mreturn\u001b[0m \u001b[0m__ret\u001b[0m\u001b[0;34m\u001b[0m\u001b[0;34m\u001b[0m\u001b[0m\n",
            "\u001b[0;32m/usr/local/lib/python3.6/dist-packages/matplotlib/__init__.py\u001b[0m in \u001b[0;36minner\u001b[0;34m(ax, data, *args, **kwargs)\u001b[0m\n\u001b[1;32m   1563\u001b[0m     \u001b[0;32mdef\u001b[0m \u001b[0minner\u001b[0m\u001b[0;34m(\u001b[0m\u001b[0max\u001b[0m\u001b[0;34m,\u001b[0m \u001b[0;34m*\u001b[0m\u001b[0margs\u001b[0m\u001b[0;34m,\u001b[0m \u001b[0mdata\u001b[0m\u001b[0;34m=\u001b[0m\u001b[0;32mNone\u001b[0m\u001b[0;34m,\u001b[0m \u001b[0;34m**\u001b[0m\u001b[0mkwargs\u001b[0m\u001b[0;34m)\u001b[0m\u001b[0;34m:\u001b[0m\u001b[0;34m\u001b[0m\u001b[0;34m\u001b[0m\u001b[0m\n\u001b[1;32m   1564\u001b[0m         \u001b[0;32mif\u001b[0m \u001b[0mdata\u001b[0m \u001b[0;32mis\u001b[0m \u001b[0;32mNone\u001b[0m\u001b[0;34m:\u001b[0m\u001b[0;34m\u001b[0m\u001b[0;34m\u001b[0m\u001b[0m\n\u001b[0;32m-> 1565\u001b[0;31m             \u001b[0;32mreturn\u001b[0m \u001b[0mfunc\u001b[0m\u001b[0;34m(\u001b[0m\u001b[0max\u001b[0m\u001b[0;34m,\u001b[0m \u001b[0;34m*\u001b[0m\u001b[0mmap\u001b[0m\u001b[0;34m(\u001b[0m\u001b[0msanitize_sequence\u001b[0m\u001b[0;34m,\u001b[0m \u001b[0margs\u001b[0m\u001b[0;34m)\u001b[0m\u001b[0;34m,\u001b[0m \u001b[0;34m**\u001b[0m\u001b[0mkwargs\u001b[0m\u001b[0;34m)\u001b[0m\u001b[0;34m\u001b[0m\u001b[0;34m\u001b[0m\u001b[0m\n\u001b[0m\u001b[1;32m   1566\u001b[0m \u001b[0;34m\u001b[0m\u001b[0m\n\u001b[1;32m   1567\u001b[0m         \u001b[0mbound\u001b[0m \u001b[0;34m=\u001b[0m \u001b[0mnew_sig\u001b[0m\u001b[0;34m.\u001b[0m\u001b[0mbind\u001b[0m\u001b[0;34m(\u001b[0m\u001b[0max\u001b[0m\u001b[0;34m,\u001b[0m \u001b[0;34m*\u001b[0m\u001b[0margs\u001b[0m\u001b[0;34m,\u001b[0m \u001b[0;34m**\u001b[0m\u001b[0mkwargs\u001b[0m\u001b[0;34m)\u001b[0m\u001b[0;34m\u001b[0m\u001b[0;34m\u001b[0m\u001b[0m\n",
            "\u001b[0;32m/usr/local/lib/python3.6/dist-packages/matplotlib/cbook/deprecation.py\u001b[0m in \u001b[0;36mwrapper\u001b[0;34m(*args, **kwargs)\u001b[0m\n\u001b[1;32m    356\u001b[0m                 \u001b[0;34mf\"%(removal)s.  If any parameter follows {name!r}, they \"\u001b[0m\u001b[0;34m\u001b[0m\u001b[0;34m\u001b[0m\u001b[0m\n\u001b[1;32m    357\u001b[0m                 f\"should be pass as keyword, not positionally.\")\n\u001b[0;32m--> 358\u001b[0;31m         \u001b[0;32mreturn\u001b[0m \u001b[0mfunc\u001b[0m\u001b[0;34m(\u001b[0m\u001b[0;34m*\u001b[0m\u001b[0margs\u001b[0m\u001b[0;34m,\u001b[0m \u001b[0;34m**\u001b[0m\u001b[0mkwargs\u001b[0m\u001b[0;34m)\u001b[0m\u001b[0;34m\u001b[0m\u001b[0;34m\u001b[0m\u001b[0m\n\u001b[0m\u001b[1;32m    359\u001b[0m \u001b[0;34m\u001b[0m\u001b[0m\n\u001b[1;32m    360\u001b[0m     \u001b[0;32mreturn\u001b[0m \u001b[0mwrapper\u001b[0m\u001b[0;34m\u001b[0m\u001b[0;34m\u001b[0m\u001b[0m\n",
            "\u001b[0;32m/usr/local/lib/python3.6/dist-packages/matplotlib/axes/_axes.py\u001b[0m in \u001b[0;36mscatter\u001b[0;34m(self, x, y, s, c, marker, cmap, norm, vmin, vmax, alpha, linewidths, verts, edgecolors, plotnonfinite, **kwargs)\u001b[0m\n\u001b[1;32m   4389\u001b[0m         \u001b[0my\u001b[0m \u001b[0;34m=\u001b[0m \u001b[0mnp\u001b[0m\u001b[0;34m.\u001b[0m\u001b[0mma\u001b[0m\u001b[0;34m.\u001b[0m\u001b[0mravel\u001b[0m\u001b[0;34m(\u001b[0m\u001b[0my\u001b[0m\u001b[0;34m)\u001b[0m\u001b[0;34m\u001b[0m\u001b[0;34m\u001b[0m\u001b[0m\n\u001b[1;32m   4390\u001b[0m         \u001b[0;32mif\u001b[0m \u001b[0mx\u001b[0m\u001b[0;34m.\u001b[0m\u001b[0msize\u001b[0m \u001b[0;34m!=\u001b[0m \u001b[0my\u001b[0m\u001b[0;34m.\u001b[0m\u001b[0msize\u001b[0m\u001b[0;34m:\u001b[0m\u001b[0;34m\u001b[0m\u001b[0;34m\u001b[0m\u001b[0m\n\u001b[0;32m-> 4391\u001b[0;31m             \u001b[0;32mraise\u001b[0m \u001b[0mValueError\u001b[0m\u001b[0;34m(\u001b[0m\u001b[0;34m\"x and y must be the same size\"\u001b[0m\u001b[0;34m)\u001b[0m\u001b[0;34m\u001b[0m\u001b[0;34m\u001b[0m\u001b[0m\n\u001b[0m\u001b[1;32m   4392\u001b[0m \u001b[0;34m\u001b[0m\u001b[0m\n\u001b[1;32m   4393\u001b[0m         \u001b[0;32mif\u001b[0m \u001b[0ms\u001b[0m \u001b[0;32mis\u001b[0m \u001b[0;32mNone\u001b[0m\u001b[0;34m:\u001b[0m\u001b[0;34m\u001b[0m\u001b[0;34m\u001b[0m\u001b[0m\n",
            "\u001b[0;31mValueError\u001b[0m: x and y must be the same size"
          ]
        },
        {
          "output_type": "display_data",
          "data": {
            "image/png": "[encoded data removed]",
            "text/plain": [
              "<Figure size 432x288 with 1 Axes>"
            ]
          },
          "metadata": {
            "tags": [],
            "needs_background": "light"
          }
        }
      ]
    }
  ]
}
